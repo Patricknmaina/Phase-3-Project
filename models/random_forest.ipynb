{
 "cells": [
  {
   "cell_type": "code",
   "execution_count": 1,
   "id": "16795699",
   "metadata": {},
   "outputs": [],
   "source": [
    "# import required libraries\n",
    "import pandas as pd\n",
    "import numpy as np\n",
    "import seaborn as sns\n",
    "import matplotlib.pyplot as plt\n",
    "from sklearn.model_selection import train_test_split, GridSearchCV\n",
    "from sklearn.ensemble import RandomForestClassifier\n",
    "from sklearn.metrics import accuracy_score, f1_score, precision_score, recall_score, roc_auc_score, roc_curve, classification_report, confusion_matrix, ConfusionMatrixDisplay, auc"
   ]
  },
  {
   "cell_type": "code",
   "execution_count": 2,
   "id": "cb9e6f56",
   "metadata": {},
   "outputs": [
    {
     "data": {
      "application/vnd.microsoft.datawrangler.viewer.v0+json": {
       "columns": [
        {
         "name": "index",
         "rawType": "int64",
         "type": "integer"
        },
        {
         "name": "state",
         "rawType": "int64",
         "type": "integer"
        },
        {
         "name": "account length",
         "rawType": "int64",
         "type": "integer"
        },
        {
         "name": "area code",
         "rawType": "int64",
         "type": "integer"
        },
        {
         "name": "phone number",
         "rawType": "int64",
         "type": "integer"
        },
        {
         "name": "international plan",
         "rawType": "float64",
         "type": "float"
        },
        {
         "name": "voice mail plan",
         "rawType": "float64",
         "type": "float"
        },
        {
         "name": "number vmail messages",
         "rawType": "int64",
         "type": "integer"
        },
        {
         "name": "total day minutes",
         "rawType": "float64",
         "type": "float"
        },
        {
         "name": "total day calls",
         "rawType": "int64",
         "type": "integer"
        },
        {
         "name": "total day charge",
         "rawType": "float64",
         "type": "float"
        },
        {
         "name": "total eve minutes",
         "rawType": "float64",
         "type": "float"
        },
        {
         "name": "total eve calls",
         "rawType": "int64",
         "type": "integer"
        },
        {
         "name": "total eve charge",
         "rawType": "float64",
         "type": "float"
        },
        {
         "name": "total night minutes",
         "rawType": "float64",
         "type": "float"
        },
        {
         "name": "total night calls",
         "rawType": "int64",
         "type": "integer"
        },
        {
         "name": "total night charge",
         "rawType": "float64",
         "type": "float"
        },
        {
         "name": "total intl minutes",
         "rawType": "float64",
         "type": "float"
        },
        {
         "name": "total intl calls",
         "rawType": "int64",
         "type": "integer"
        },
        {
         "name": "total intl charge",
         "rawType": "float64",
         "type": "float"
        },
        {
         "name": "customer service calls",
         "rawType": "int64",
         "type": "integer"
        },
        {
         "name": "churn",
         "rawType": "int64",
         "type": "integer"
        }
       ],
       "ref": "1116a22c-705f-49c8-ae32-314dfa47102c",
       "rows": [
        [
         "0",
         "16",
         "128",
         "415",
         "1926",
         null,
         null,
         "25",
         "265.1",
         "110",
         "45.07",
         "197.4",
         "99",
         "16.78",
         "244.7",
         "91",
         "11.01",
         "10.0",
         "3",
         "2.7",
         "1",
         "0"
        ],
        [
         "1",
         "35",
         "107",
         "415",
         "1575",
         null,
         null,
         "26",
         "161.6",
         "123",
         "27.47",
         "195.5",
         "103",
         "16.62",
         "254.4",
         "103",
         "11.45",
         "13.7",
         "3",
         "3.7",
         "1",
         "0"
        ],
        [
         "2",
         "31",
         "137",
         "415",
         "1117",
         null,
         null,
         "0",
         "243.4",
         "114",
         "41.38",
         "121.2",
         "110",
         "10.3",
         "162.6",
         "104",
         "7.32",
         "12.2",
         "5",
         "3.29",
         "0",
         "0"
        ],
        [
         "3",
         "35",
         "84",
         "408",
         "1707",
         null,
         null,
         "0",
         "299.4",
         "71",
         "50.9",
         "61.9",
         "88",
         "5.26",
         "196.9",
         "89",
         "8.86",
         "6.6",
         "7",
         "1.78",
         "2",
         "0"
        ],
        [
         "4",
         "36",
         "75",
         "415",
         "110",
         null,
         null,
         "0",
         "166.7",
         "113",
         "28.34",
         "148.3",
         "122",
         "12.61",
         "186.9",
         "121",
         "8.41",
         "10.1",
         "3",
         "2.73",
         "3",
         "0"
        ]
       ],
       "shape": {
        "columns": 21,
        "rows": 5
       }
      },
      "text/html": [
       "<div>\n",
       "<style scoped>\n",
       "    .dataframe tbody tr th:only-of-type {\n",
       "        vertical-align: middle;\n",
       "    }\n",
       "\n",
       "    .dataframe tbody tr th {\n",
       "        vertical-align: top;\n",
       "    }\n",
       "\n",
       "    .dataframe thead th {\n",
       "        text-align: right;\n",
       "    }\n",
       "</style>\n",
       "<table border=\"1\" class=\"dataframe\">\n",
       "  <thead>\n",
       "    <tr style=\"text-align: right;\">\n",
       "      <th></th>\n",
       "      <th>state</th>\n",
       "      <th>account length</th>\n",
       "      <th>area code</th>\n",
       "      <th>phone number</th>\n",
       "      <th>international plan</th>\n",
       "      <th>voice mail plan</th>\n",
       "      <th>number vmail messages</th>\n",
       "      <th>total day minutes</th>\n",
       "      <th>total day calls</th>\n",
       "      <th>total day charge</th>\n",
       "      <th>...</th>\n",
       "      <th>total eve calls</th>\n",
       "      <th>total eve charge</th>\n",
       "      <th>total night minutes</th>\n",
       "      <th>total night calls</th>\n",
       "      <th>total night charge</th>\n",
       "      <th>total intl minutes</th>\n",
       "      <th>total intl calls</th>\n",
       "      <th>total intl charge</th>\n",
       "      <th>customer service calls</th>\n",
       "      <th>churn</th>\n",
       "    </tr>\n",
       "  </thead>\n",
       "  <tbody>\n",
       "    <tr>\n",
       "      <th>0</th>\n",
       "      <td>16</td>\n",
       "      <td>128</td>\n",
       "      <td>415</td>\n",
       "      <td>1926</td>\n",
       "      <td>NaN</td>\n",
       "      <td>NaN</td>\n",
       "      <td>25</td>\n",
       "      <td>265.1</td>\n",
       "      <td>110</td>\n",
       "      <td>45.07</td>\n",
       "      <td>...</td>\n",
       "      <td>99</td>\n",
       "      <td>16.78</td>\n",
       "      <td>244.7</td>\n",
       "      <td>91</td>\n",
       "      <td>11.01</td>\n",
       "      <td>10.0</td>\n",
       "      <td>3</td>\n",
       "      <td>2.70</td>\n",
       "      <td>1</td>\n",
       "      <td>0</td>\n",
       "    </tr>\n",
       "    <tr>\n",
       "      <th>1</th>\n",
       "      <td>35</td>\n",
       "      <td>107</td>\n",
       "      <td>415</td>\n",
       "      <td>1575</td>\n",
       "      <td>NaN</td>\n",
       "      <td>NaN</td>\n",
       "      <td>26</td>\n",
       "      <td>161.6</td>\n",
       "      <td>123</td>\n",
       "      <td>27.47</td>\n",
       "      <td>...</td>\n",
       "      <td>103</td>\n",
       "      <td>16.62</td>\n",
       "      <td>254.4</td>\n",
       "      <td>103</td>\n",
       "      <td>11.45</td>\n",
       "      <td>13.7</td>\n",
       "      <td>3</td>\n",
       "      <td>3.70</td>\n",
       "      <td>1</td>\n",
       "      <td>0</td>\n",
       "    </tr>\n",
       "    <tr>\n",
       "      <th>2</th>\n",
       "      <td>31</td>\n",
       "      <td>137</td>\n",
       "      <td>415</td>\n",
       "      <td>1117</td>\n",
       "      <td>NaN</td>\n",
       "      <td>NaN</td>\n",
       "      <td>0</td>\n",
       "      <td>243.4</td>\n",
       "      <td>114</td>\n",
       "      <td>41.38</td>\n",
       "      <td>...</td>\n",
       "      <td>110</td>\n",
       "      <td>10.30</td>\n",
       "      <td>162.6</td>\n",
       "      <td>104</td>\n",
       "      <td>7.32</td>\n",
       "      <td>12.2</td>\n",
       "      <td>5</td>\n",
       "      <td>3.29</td>\n",
       "      <td>0</td>\n",
       "      <td>0</td>\n",
       "    </tr>\n",
       "    <tr>\n",
       "      <th>3</th>\n",
       "      <td>35</td>\n",
       "      <td>84</td>\n",
       "      <td>408</td>\n",
       "      <td>1707</td>\n",
       "      <td>NaN</td>\n",
       "      <td>NaN</td>\n",
       "      <td>0</td>\n",
       "      <td>299.4</td>\n",
       "      <td>71</td>\n",
       "      <td>50.90</td>\n",
       "      <td>...</td>\n",
       "      <td>88</td>\n",
       "      <td>5.26</td>\n",
       "      <td>196.9</td>\n",
       "      <td>89</td>\n",
       "      <td>8.86</td>\n",
       "      <td>6.6</td>\n",
       "      <td>7</td>\n",
       "      <td>1.78</td>\n",
       "      <td>2</td>\n",
       "      <td>0</td>\n",
       "    </tr>\n",
       "    <tr>\n",
       "      <th>4</th>\n",
       "      <td>36</td>\n",
       "      <td>75</td>\n",
       "      <td>415</td>\n",
       "      <td>110</td>\n",
       "      <td>NaN</td>\n",
       "      <td>NaN</td>\n",
       "      <td>0</td>\n",
       "      <td>166.7</td>\n",
       "      <td>113</td>\n",
       "      <td>28.34</td>\n",
       "      <td>...</td>\n",
       "      <td>122</td>\n",
       "      <td>12.61</td>\n",
       "      <td>186.9</td>\n",
       "      <td>121</td>\n",
       "      <td>8.41</td>\n",
       "      <td>10.1</td>\n",
       "      <td>3</td>\n",
       "      <td>2.73</td>\n",
       "      <td>3</td>\n",
       "      <td>0</td>\n",
       "    </tr>\n",
       "  </tbody>\n",
       "</table>\n",
       "<p>5 rows × 21 columns</p>\n",
       "</div>"
      ],
      "text/plain": [
       "   state  account length  area code  phone number  international plan  \\\n",
       "0     16             128        415          1926                 NaN   \n",
       "1     35             107        415          1575                 NaN   \n",
       "2     31             137        415          1117                 NaN   \n",
       "3     35              84        408          1707                 NaN   \n",
       "4     36              75        415           110                 NaN   \n",
       "\n",
       "   voice mail plan  number vmail messages  total day minutes  total day calls  \\\n",
       "0              NaN                     25              265.1              110   \n",
       "1              NaN                     26              161.6              123   \n",
       "2              NaN                      0              243.4              114   \n",
       "3              NaN                      0              299.4               71   \n",
       "4              NaN                      0              166.7              113   \n",
       "\n",
       "   total day charge  ...  total eve calls  total eve charge  \\\n",
       "0             45.07  ...               99             16.78   \n",
       "1             27.47  ...              103             16.62   \n",
       "2             41.38  ...              110             10.30   \n",
       "3             50.90  ...               88              5.26   \n",
       "4             28.34  ...              122             12.61   \n",
       "\n",
       "   total night minutes  total night calls  total night charge  \\\n",
       "0                244.7                 91               11.01   \n",
       "1                254.4                103               11.45   \n",
       "2                162.6                104                7.32   \n",
       "3                196.9                 89                8.86   \n",
       "4                186.9                121                8.41   \n",
       "\n",
       "   total intl minutes  total intl calls  total intl charge  \\\n",
       "0                10.0                 3               2.70   \n",
       "1                13.7                 3               3.70   \n",
       "2                12.2                 5               3.29   \n",
       "3                 6.6                 7               1.78   \n",
       "4                10.1                 3               2.73   \n",
       "\n",
       "   customer service calls  churn  \n",
       "0                       1      0  \n",
       "1                       1      0  \n",
       "2                       0      0  \n",
       "3                       2      0  \n",
       "4                       3      0  \n",
       "\n",
       "[5 rows x 21 columns]"
      ]
     },
     "execution_count": 2,
     "metadata": {},
     "output_type": "execute_result"
    }
   ],
   "source": [
    "# load the clean & preprocessed dataset\n",
    "churn_df = pd.read_csv('../data/churn_cleaned.csv')\n",
    "churn_df.head()"
   ]
  },
  {
   "cell_type": "code",
   "execution_count": 3,
   "id": "20420f4d",
   "metadata": {},
   "outputs": [
    {
     "name": "stdout",
     "output_type": "stream",
     "text": [
      "Shape of scaled X_train: (2666, 20)\n",
      "Shape of scaled X_test: (667, 20)\n",
      "Shape of y_train: (2666,)\n",
      "Shape of y_test: (667,)\n"
     ]
    }
   ],
   "source": [
    "# # define X and y variables\n",
    "X = churn_df.drop(columns='churn', axis=1)\n",
    "y = churn_df['churn']\n",
    "\n",
    "# split into training and testing sets\n",
    "X_train, X_test, y_train, y_test = train_test_split(X, y, test_size=0.2, random_state=42)\n",
    "\n",
    "# # scale the train and test features\n",
    "# scaler = StandardScaler()\n",
    "# X_train_scaled = scaler.fit_transform(X_train)\n",
    "# X_test_scaled = scaler.transform(X_test)\n",
    "\n",
    "# display the shape of thr train and test sets\n",
    "print(\"Shape of scaled X_train:\", X_train.shape)\n",
    "print(\"Shape of scaled X_test:\", X_test.shape)\n",
    "print(\"Shape of y_train:\", y_train.shape)\n",
    "print(\"Shape of y_test:\", y_test.shape)"
   ]
  },
  {
   "cell_type": "code",
   "execution_count": 4,
   "id": "74554c46",
   "metadata": {},
   "outputs": [
    {
     "name": "stdout",
     "output_type": "stream",
     "text": [
      "Random Forest model accuracy: 0.9175412293853074\n",
      "              precision    recall  f1-score   support\n",
      "\n",
      "           0       0.92      0.99      0.95       566\n",
      "           1       0.93      0.50      0.65       101\n",
      "\n",
      "    accuracy                           0.92       667\n",
      "   macro avg       0.92      0.74      0.80       667\n",
      "weighted avg       0.92      0.92      0.91       667\n",
      "\n"
     ]
    }
   ],
   "source": [
    "# instantiate a Decision Tree model\n",
    "ran_model = RandomForestClassifier()\n",
    "\n",
    "# fit the training data\n",
    "ran_model.fit(X_train, y_train)\n",
    "\n",
    "# model prediction on the test dataset\n",
    "y_pred_ran = ran_model.predict(X_test)\n",
    "\n",
    "# compute the accuracy and display classification report\n",
    "ran_acc = accuracy_score(y_test, y_pred_ran)\n",
    "print(\"Random Forest model accuracy:\", ran_acc)\n",
    "\n",
    "dec_report = classification_report(y_true=y_test, y_pred=y_pred_ran)\n",
    "print(dec_report)"
   ]
  },
  {
   "cell_type": "code",
   "execution_count": 5,
   "id": "866c303a",
   "metadata": {},
   "outputs": [
    {
     "data": {
      "text/plain": [
       "<sklearn.metrics._plot.confusion_matrix.ConfusionMatrixDisplay at 0x21eb9055be0>"
      ]
     },
     "execution_count": 5,
     "metadata": {},
     "output_type": "execute_result"
    },
    {
     "data": {
      "image/png": "[encoded data removed]",
      "text/plain": [
       "<Figure size 640x480 with 2 Axes>"
      ]
     },
     "metadata": {},
     "output_type": "display_data"
    }
   ],
   "source": [
    "# compute the confusion matrix\n",
    "conf_matrix = confusion_matrix(y_true=y_test, y_pred=y_pred_ran)\n",
    "conf_matrix\n",
    "\n",
    "# plot the confusion matrix\n",
    "conf_disp = ConfusionMatrixDisplay(confusion_matrix=conf_matrix, display_labels=ran_model.classes_)\n",
    "conf_disp.plot()"
   ]
  },
  {
   "cell_type": "code",
   "execution_count": 6,
   "id": "731c94d4",
   "metadata": {},
   "outputs": [
    {
     "name": "stdout",
     "output_type": "stream",
     "text": [
      "Fitting 5 folds for each of 48 candidates, totalling 240 fits\n",
      "Optimal model hyperparameters: {'bootstrap': False, 'max_depth': None, 'min_samples_leaf': 2, 'min_samples_split': 2, 'n_estimators': 200}\n",
      "Best model accuracy: 0.9216090112500087\n",
      "Best model estimators: RandomForestClassifier(bootstrap=False, min_samples_leaf=2, n_estimators=200)\n"
     ]
    }
   ],
   "source": [
    "# hyperparameter tuning for the random forest model\n",
    "\n",
    "# define the scope of the hyperparameters\n",
    "param_grid_ran = {\n",
    "    'n_estimators': [100, 200],\n",
    "    'max_depth': [None, 10, 20],\n",
    "    'min_samples_split': [2, 5],\n",
    "    'min_samples_leaf': [1, 2],\n",
    "    'bootstrap': [True, False]\n",
    "}\n",
    "\n",
    "# Instantiate the GridsearchCV function\n",
    "grid_model_ran = GridSearchCV(ran_model, param_grid=param_grid_ran, cv=5, verbose=True, scoring='accuracy')\n",
    "\n",
    "# fit the training data and obtain optimal hyperparameters\n",
    "grid_model_ran.fit(X_train, y_train)\n",
    "print(\"Optimal model hyperparameters:\", grid_model_ran.best_params_)\n",
    "print(\"Best model accuracy:\", grid_model_ran.best_score_)\n",
    "print(\"Best model estimators:\", grid_model_ran.best_estimator_)"
   ]
  },
  {
   "cell_type": "code",
   "execution_count": null,
   "id": "d8c03abf",
   "metadata": {},
   "outputs": [
    {
     "name": "stdout",
     "output_type": "stream",
     "text": [
      "Tuned Random Forest model accuracy: 0.9130434782608695\n",
      "              precision    recall  f1-score   support\n",
      "\n",
      "           0       0.92      0.99      0.95       566\n",
      "           1       0.86      0.50      0.64       101\n",
      "\n",
      "    accuracy                           0.91       667\n",
      "   macro avg       0.89      0.75      0.79       667\n",
      "weighted avg       0.91      0.91      0.90       667\n",
      "\n"
     ]
    }
   ],
   "source": [
    "# update the random forest model with the optimal hyperparameters\n",
    "ran_model_tuned = RandomForestClassifier(\n",
    "    bootstrap=False,\n",
    "    min_samples_leaf=2,\n",
    "    n_estimators=200,\n",
    "    random_state=42\n",
    ")\n",
    "\n",
    "# fit the train data\n",
    "ran_model_tuned.fit(X_train, y_train)\n",
    "\n",
    "# predict on the test data and compute accuracy\n",
    "y_pred_ran_tuned = ran_model_tuned.predict(X_test)\n",
    "ran_acc_tuned = accuracy_score(y_test, y_pred_ran_tuned)\n",
    "print(\"Tuned Random Forest model accuracy:\", ran_acc_tuned)\n",
    "\n",
    "# diplay the classification report\n",
    "ran_tuned_report = classification_report(y_true=y_test, y_pred=y_pred_ran_tuned)\n",
    "print(ran_tuned_report)"
   ]
  },
  {
   "cell_type": "code",
   "execution_count": null,
   "id": "214ac895",
   "metadata": {},
   "outputs": [],
   "source": []
  }
 ],
 "metadata": {
  "kernelspec": {
   "display_name": "env",
   "language": "python",
   "name": "python3"
  },
  "language_info": {
   "codemirror_mode": {
    "name": "ipython",
    "version": 3
   },
   "file_extension": ".py",
   "mimetype": "text/x-python",
   "name": "python",
   "nbconvert_exporter": "python",
   "pygments_lexer": "ipython3",
   "version": "3.13.3"
  }
 },
 "nbformat": 4,
 "nbformat_minor": 5
}
